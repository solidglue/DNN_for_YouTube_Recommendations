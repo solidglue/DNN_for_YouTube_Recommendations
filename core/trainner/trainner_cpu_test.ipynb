{
 "cells": [
  {
   "cell_type": "code",
   "execution_count": 1,
   "metadata": {},
   "outputs": [
    {
     "name": "stdout",
     "output_type": "stream",
     "text": [
      "WARNING:tensorflow:From c:\\Users\\yuanshuai\\AppData\\Local\\anaconda3\\envs\\tensorflow2\\Lib\\site-packages\\keras\\src\\losses.py:2976: The name tf.losses.sparse_softmax_cross_entropy is deprecated. Please use tf.compat.v1.losses.sparse_softmax_cross_entropy instead.\n",
      "\n",
      "10000\n"
     ]
    }
   ],
   "source": [
    "import sys\n",
    "sys.path.append('d://the-recommender/DNN_for_YouTube_Recommendations')\n",
    "\n",
    "from sample import ml1m_sample\n",
    "from sample import ml1m_sample_tfrecord\n",
    "from trainner_cpu import TrainnerCPU\n",
    "import tensorflow as tf  \n",
    "\n",
    "##create sample - 读取原始文件构造\n",
    "sample_x, sample_y = ml1m_sample.Ml1mSample().ranking_sample()\n",
    "train_dataset = ml1m_sample_tfrecord.Ml1mTFRecordSample().tfrecord_sample(sample_x[:10000], sample_y[:10000], True) #.tfrecord_sample() #从tfrecord读取样本\n",
    "\n",
    "##直接从tfrecord文件读取\n",
    "#train_dataset = ml1m_sample_tfrecord.Ml1mTFRecordSample().tfrecord_sample() \n",
    "\n",
    "count = train_dataset.take(-1).reduce(tf.constant(0), lambda x, _: x + 1).numpy()  \n",
    "print(count)"
   ]
  },
  {
   "cell_type": "code",
   "execution_count": 2,
   "metadata": {},
   "outputs": [
    {
     "data": {
      "text/plain": [
       "({'user_id': <tf.Tensor: shape=(), dtype=int64, numpy=1>,\n",
       "  'item_id': <tf.Tensor: shape=(), dtype=int64, numpy=48>,\n",
       "  'timestamp': <tf.Tensor: shape=(), dtype=int64, numpy=978824351>,\n",
       "  'title': <tf.Tensor: shape=(), dtype=string, numpy=b'Pocahontas (1995)'>,\n",
       "  'genres': <tf.Tensor: shape=(), dtype=string, numpy=b\"Animation|Children's|Musical|Romance\">,\n",
       "  'gender': <tf.Tensor: shape=(), dtype=string, numpy=b'F'>,\n",
       "  'age': <tf.Tensor: shape=(), dtype=int64, numpy=1>,\n",
       "  'occupation': <tf.Tensor: shape=(), dtype=int64, numpy=10>,\n",
       "  'zip': <tf.Tensor: shape=(), dtype=string, numpy=b'48067'>,\n",
       "  'itemid_seq': <tf.Tensor: shape=(), dtype=string, numpy=b'48|1907|783|1|527'>,\n",
       "  'itemid_seq_len': <tf.Tensor: shape=(), dtype=int64, numpy=5>},\n",
       " {'rating': <tf.Tensor: shape=(), dtype=int64, numpy=5>})"
      ]
     },
     "execution_count": 2,
     "metadata": {},
     "output_type": "execute_result"
    }
   ],
   "source": [
    "next(iter(train_dataset))  "
   ]
  },
  {
   "cell_type": "code",
   "execution_count": 3,
   "metadata": {},
   "outputs": [
    {
     "name": "stdout",
     "output_type": "stream",
     "text": [
      "WARNING:tensorflow:From c:\\Users\\yuanshuai\\AppData\\Local\\anaconda3\\envs\\tensorflow2\\Lib\\site-packages\\keras\\src\\backend.py:873: The name tf.get_default_graph is deprecated. Please use tf.compat.v1.get_default_graph instead.\n",
      "\n",
      "WARNING:tensorflow:From c:\\Users\\yuanshuai\\AppData\\Local\\anaconda3\\envs\\tensorflow2\\Lib\\site-packages\\keras\\src\\utils\\tf_utils.py:492: The name tf.ragged.RaggedTensorValue is deprecated. Please use tf.compat.v1.ragged.RaggedTensorValue instead.\n",
      "\n"
     ]
    }
   ],
   "source": [
    "\n",
    "## 以下输入信息需要和模型的图对比，看看输入输出shape是否匹配\n",
    "hashed_userid_tensor,hashed_itemid_tensor,genres_tensor,itemid_seq_tensor,tags_tensor,rating_score_tensor,onehot_rating_label_tensor = TrainnerCPU().build_input_tensor(train_dataset)"
   ]
  },
  {
   "cell_type": "code",
   "execution_count": 4,
   "metadata": {},
   "outputs": [
    {
     "data": {
      "text/plain": [
       "<tf.Tensor: shape=(10000,), dtype=int64, numpy=array([2911, 2911, 2911, ..., 6748, 6748, 6748], dtype=int64)>"
      ]
     },
     "execution_count": 4,
     "metadata": {},
     "output_type": "execute_result"
    }
   ],
   "source": [
    "hashed_userid_tensor"
   ]
  },
  {
   "cell_type": "code",
   "execution_count": 5,
   "metadata": {},
   "outputs": [
    {
     "data": {
      "text/plain": [
       "<tf.Tensor: shape=(10000,), dtype=int64, numpy=array([1337, 3691, 8599, ..., 2509, 6884, 7231], dtype=int64)>"
      ]
     },
     "execution_count": 5,
     "metadata": {},
     "output_type": "execute_result"
    }
   ],
   "source": [
    "hashed_itemid_tensor"
   ]
  },
  {
   "cell_type": "code",
   "execution_count": 6,
   "metadata": {},
   "outputs": [
    {
     "data": {
      "text/plain": [
       "<tf.Tensor: shape=(10000,), dtype=int64, numpy=array([4009, 2037, 1754, ..., 4990, 3822,  668], dtype=int64)>"
      ]
     },
     "execution_count": 6,
     "metadata": {},
     "output_type": "execute_result"
    }
   ],
   "source": [
    "genres_tensor"
   ]
  },
  {
   "cell_type": "code",
   "execution_count": 7,
   "metadata": {},
   "outputs": [
    {
     "data": {
      "text/plain": [
       "<tf.Tensor: shape=(10000,), dtype=int64, numpy=array([ 783,  783,  783, ..., 4428, 4428, 4428], dtype=int64)>"
      ]
     },
     "execution_count": 7,
     "metadata": {},
     "output_type": "execute_result"
    }
   ],
   "source": [
    "itemid_seq_tensor"
   ]
  },
  {
   "cell_type": "code",
   "execution_count": 8,
   "metadata": {},
   "outputs": [
    {
     "data": {
      "text/plain": [
       "<tf.Tensor: shape=(10000, 173), dtype=bool, numpy=\n",
       "array([[ True, False,  True, ..., False, False,  True],\n",
       "       [ True, False,  True, ..., False, False,  True],\n",
       "       [ True, False,  True, ..., False, False,  True],\n",
       "       ...,\n",
       "       [ True, False, False, ..., False, False,  True],\n",
       "       [ True, False, False, ..., False, False,  True],\n",
       "       [ True, False, False, ..., False, False,  True]])>"
      ]
     },
     "execution_count": 8,
     "metadata": {},
     "output_type": "execute_result"
    }
   ],
   "source": [
    "tags_tensor"
   ]
  },
  {
   "cell_type": "code",
   "execution_count": 9,
   "metadata": {},
   "outputs": [
    {
     "data": {
      "text/plain": [
       "<tf.Tensor: shape=(10000,), dtype=float32, numpy=array([5., 4., 4., ..., 3., 3., 4.], dtype=float32)>"
      ]
     },
     "execution_count": 9,
     "metadata": {},
     "output_type": "execute_result"
    }
   ],
   "source": [
    "rating_score_tensor"
   ]
  },
  {
   "cell_type": "code",
   "execution_count": 10,
   "metadata": {},
   "outputs": [
    {
     "data": {
      "text/plain": [
       "<tf.Tensor: shape=(10000, 6), dtype=float32, numpy=\n",
       "array([[0., 0., 0., 1., 0., 0.],\n",
       "       [0., 1., 0., 0., 0., 0.],\n",
       "       [0., 1., 0., 0., 0., 0.],\n",
       "       ...,\n",
       "       [0., 0., 1., 0., 0., 0.],\n",
       "       [0., 0., 1., 0., 0., 0.],\n",
       "       [0., 1., 0., 0., 0., 0.]], dtype=float32)>"
      ]
     },
     "execution_count": 10,
     "metadata": {},
     "output_type": "execute_result"
    }
   ],
   "source": [
    "onehot_rating_label_tensor"
   ]
  },
  {
   "cell_type": "code",
   "execution_count": 11,
   "metadata": {},
   "outputs": [
    {
     "name": "stdout",
     "output_type": "stream",
     "text": [
      "WARNING:tensorflow:From c:\\Users\\yuanshuai\\AppData\\Local\\anaconda3\\envs\\tensorflow2\\Lib\\site-packages\\keras\\src\\engine\\base_layer_utils.py:384: The name tf.executing_eagerly_outside_functions is deprecated. Please use tf.compat.v1.executing_eagerly_outside_functions instead.\n",
      "\n",
      "125/125 [==============================] - 10s 64ms/step - loss: 2.5544 - priority_loss: 1.0899 - rating_loss: 1.4645 - val_loss: 2.6478 - val_priority_loss: 1.1818 - val_rating_loss: 1.4661\n"
     ]
    }
   ],
   "source": [
    "model = TrainnerCPU().train_loop(train_dataset)"
   ]
  },
  {
   "cell_type": "code",
   "execution_count": 12,
   "metadata": {},
   "outputs": [
    {
     "name": "stdout",
     "output_type": "stream",
     "text": [
      "INFO:tensorflow:Assets written to: d://the-recommender/DNN_for_YouTube_Recommendations/core/trainner/__SavedModel/signature_with_multiple_input_output/assets\n"
     ]
    },
    {
     "name": "stderr",
     "output_type": "stream",
     "text": [
      "INFO:tensorflow:Assets written to: d://the-recommender/DNN_for_YouTube_Recommendations/core/trainner/__SavedModel/signature_with_multiple_input_output/assets\n"
     ]
    }
   ],
   "source": [
    "## 默认签名\n",
    "#保存模型\n",
    "TrainnerCPU().save_model(model)"
   ]
  },
  {
   "cell_type": "code",
   "execution_count": 13,
   "metadata": {},
   "outputs": [
    {
     "data": {
      "text/plain": [
       "['serving_default']"
      ]
     },
     "execution_count": 13,
     "metadata": {},
     "output_type": "execute_result"
    }
   ],
   "source": [
    "#查看模型签名\n",
    "model_path=\"d://the-recommender/DNN_for_YouTube_Recommendations/core/trainner/__SavedModel/signature_with_multiple_input_output\"\n",
    "imported_with_signatures = tf.saved_model.load(model_path)\n",
    "list(imported_with_signatures.signatures.keys())"
   ]
  },
  {
   "cell_type": "code",
   "execution_count": 14,
   "metadata": {},
   "outputs": [
    {
     "data": {
      "text/plain": [
       "KeysView(_SignatureMap({'serving_default': <ConcreteFunction (*, genres: TensorSpec(shape=(None, None), dtype=tf.float32, name='genres'), item_id: TensorSpec(shape=(None, None), dtype=tf.float32, name='item_id'), itemid_seq: TensorSpec(shape=(None, None), dtype=tf.float32, name='itemid_seq'), tags: TensorSpec(shape=(None, None, 173), dtype=tf.float32, name='tags'), user_id: TensorSpec(shape=(None, None), dtype=tf.float32, name='user_id')) -> Dict[['rating', TensorSpec(shape=(None, None, 6), dtype=tf.float32, name='rating')], ['priority', TensorSpec(shape=(None, None, 1), dtype=tf.float32, name='priority')]] at 0x280DECBFFD0>}))"
      ]
     },
     "execution_count": 14,
     "metadata": {},
     "output_type": "execute_result"
    }
   ],
   "source": [
    "imported_with_signatures.signatures.keys()"
   ]
  },
  {
   "cell_type": "code",
   "execution_count": 15,
   "metadata": {},
   "outputs": [
    {
     "name": "stdout",
     "output_type": "stream",
     "text": [
      "INFO:tensorflow:Assets written to: d://the-recommender/DNN_for_YouTube_Recommendations/core/trainner/__SavedModel/multi_signature_with_multiple_input_output/assets\n"
     ]
    },
    {
     "name": "stderr",
     "output_type": "stream",
     "text": [
      "INFO:tensorflow:Assets written to: d://the-recommender/DNN_for_YouTube_Recommendations/core/trainner/__SavedModel/multi_signature_with_multiple_input_output/assets\n"
     ]
    }
   ],
   "source": [
    "## 自定义签名\n",
    "#保存模型\n",
    "TrainnerCPU().save_model_signatures(model)"
   ]
  },
  {
   "cell_type": "code",
   "execution_count": 16,
   "metadata": {},
   "outputs": [
    {
     "data": {
      "text/plain": [
       "['serving_default', 'predict', 'extract_features']"
      ]
     },
     "execution_count": 16,
     "metadata": {},
     "output_type": "execute_result"
    }
   ],
   "source": [
    "#查看模型签名 - 多签名（结果预测和取特征）\n",
    "model_path=\"d://the-recommender/DNN_for_YouTube_Recommendations/core/trainner/__SavedModel/multi_signature_with_multiple_input_output\"\n",
    "imported_with_signatures = tf.saved_model.load(model_path)\n",
    "list(imported_with_signatures.signatures.keys())"
   ]
  },
  {
   "cell_type": "code",
   "execution_count": 17,
   "metadata": {},
   "outputs": [
    {
     "data": {
      "text/plain": [
       "KeysView(_SignatureMap({'serving_default': <ConcreteFunction (*, genres: TensorSpec(shape=(None,), dtype=tf.float32, name='genres'), item_id: TensorSpec(shape=(None,), dtype=tf.float32, name='item_id'), itemid_seq: TensorSpec(shape=(None,), dtype=tf.float32, name='itemid_seq'), tags: TensorSpec(shape=(None, 173), dtype=tf.float32, name='tags'), user_id: TensorSpec(shape=(None,), dtype=tf.float32, name='user_id')) -> Dict[['output_1', TensorSpec(shape=(None, 6), dtype=tf.float32, name='output_1')], ['output_0', TensorSpec(shape=(None, 1), dtype=tf.float32, name='output_0')]] at 0x280DEDB7A50>, 'predict': <ConcreteFunction (*, genres: TensorSpec(shape=(None,), dtype=tf.float32, name='genres'), item_id: TensorSpec(shape=(None,), dtype=tf.float32, name='item_id'), itemid_seq: TensorSpec(shape=(None,), dtype=tf.float32, name='itemid_seq'), tags: TensorSpec(shape=(None, 173), dtype=tf.float32, name='tags'), user_id: TensorSpec(shape=(None,), dtype=tf.float32, name='user_id')) -> Dict[['output_1', TensorSpec(shape=(None, 6), dtype=tf.float32, name='output_1')], ['output_0', TensorSpec(shape=(None, 1), dtype=tf.float32, name='output_0')]] at 0x280E93B7890>, 'extract_features': <ConcreteFunction (*, genres: TensorSpec(shape=(None,), dtype=tf.float32, name='genres'), item_id: TensorSpec(shape=(None,), dtype=tf.float32, name='item_id'), itemid_seq: TensorSpec(shape=(None,), dtype=tf.float32, name='itemid_seq'), tags: TensorSpec(shape=(None, 173), dtype=tf.float32, name='tags'), user_id: TensorSpec(shape=(None,), dtype=tf.float32, name='user_id')) -> Dict[['output_0', TensorSpec(shape=(None, 64), dtype=tf.float32, name='output_0')]] at 0x280E92951D0>}))"
      ]
     },
     "execution_count": 17,
     "metadata": {},
     "output_type": "execute_result"
    }
   ],
   "source": [
    "imported_with_signatures.signatures.keys()"
   ]
  },
  {
   "cell_type": "code",
   "execution_count": 18,
   "metadata": {},
   "outputs": [
    {
     "data": {
      "text/plain": [
       "<ConcreteFunction (*, genres: TensorSpec(shape=(None,), dtype=tf.float32, name='genres'), item_id: TensorSpec(shape=(None,), dtype=tf.float32, name='item_id'), itemid_seq: TensorSpec(shape=(None,), dtype=tf.float32, name='itemid_seq'), tags: TensorSpec(shape=(None, 173), dtype=tf.float32, name='tags'), user_id: TensorSpec(shape=(None,), dtype=tf.float32, name='user_id')) -> Dict[['output_1', TensorSpec(shape=(None, 6), dtype=tf.float32, name='output_1')], ['output_0', TensorSpec(shape=(None, 1), dtype=tf.float32, name='output_0')]] at 0x280DEDB7A50>"
      ]
     },
     "execution_count": 18,
     "metadata": {},
     "output_type": "execute_result"
    }
   ],
   "source": [
    "## 推理验证签名\n",
    "# 使用签名进行推理  \n",
    "# 获取签名  #hashed_userid_tensor,hashed_itemid_tensor,genres_tensor,itemid_seq_tensor,tags_tensor,rating_score_tensor,onehot_rating_label_tensor\n",
    "serve_signature = imported_with_signatures.signatures['serving_default']  \n",
    "serve_signature\n"
   ]
  }
 ],
 "metadata": {
  "kernelspec": {
   "display_name": "Python 3",
   "language": "python",
   "name": "python3"
  },
  "language_info": {
   "codemirror_mode": {
    "name": "ipython",
    "version": 3
   },
   "file_extension": ".py",
   "mimetype": "text/x-python",
   "name": "python",
   "nbconvert_exporter": "python",
   "pygments_lexer": "ipython3",
   "version": "3.11.8"
  }
 },
 "nbformat": 4,
 "nbformat_minor": 2
}
