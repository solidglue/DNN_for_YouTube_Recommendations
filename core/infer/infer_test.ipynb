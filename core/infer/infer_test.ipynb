{
 "cells": [
  {
   "cell_type": "code",
   "execution_count": 1,
   "metadata": {},
   "outputs": [
    {
     "name": "stdout",
     "output_type": "stream",
     "text": [
      "WARNING:tensorflow:From c:\\Users\\yuanshuai\\AppData\\Local\\anaconda3\\envs\\tensorflow2\\Lib\\site-packages\\keras\\src\\losses.py:2976: The name tf.losses.sparse_softmax_cross_entropy is deprecated. Please use tf.compat.v1.losses.sparse_softmax_cross_entropy instead.\n",
      "\n"
     ]
    }
   ],
   "source": [
    "import sys\n",
    "sys.path.append('d://the-recommender/DNN_for_YouTube_Recommendations')\n",
    "\n",
    "from sample import ml1m_sample_tfrecord\n",
    "from core.trainner.trainner_cpu import TrainnerCPU\n",
    "import tensorflow as tf  \n",
    "from  infer import Inference\n",
    "from datasets.ml1m_dataset import Ml1mDataset \n",
    "\n"
   ]
  },
  {
   "cell_type": "code",
   "execution_count": 2,
   "metadata": {},
   "outputs": [],
   "source": [
    "##初始化参数。在main.py中使用argparse包接收解析参数，此处为了方便在jupyter中演示，将参数放在字典中。\n",
    "parsed_args = {}\n",
    "#解析dataset参数\n",
    "parsed_args[\"data_path\"] =  'd://the-recommender/DNN_for_YouTube_Recommendations/datasets/ml-1m/'\n",
    "parsed_args[\"users_file\"] =  'users.dat'\n",
    "parsed_args[\"ratings_file\"] =  'ratings.dat' \n",
    "parsed_args[\"movies_file\"] =  'movies.dat'\n",
    "parsed_args[\"sep\"] =  '::'\n",
    "parsed_args[\"header\"] =  None\n",
    "\n",
    "#解析样本参数\n",
    "parsed_args[\"sample_output_file\"] =  'd://the-recommender/DNN_for_YouTube_Recommendations/sample/__TFRecord/train.tfrecord' \n",
    "\n",
    "#解析模型保存参数\n",
    "parsed_args[\"export_path\"] =  'd://the-recommender/DNN_for_YouTube_Recommendations/SAVEDMODELS/savedmodel/default_signature_with_multiple_input_output'\n",
    "parsed_args[\"export_path_multi\"] = 'd://the-recommender/DNN_for_YouTube_Recommendations/SAVEDMODELS/savedmodel/multi_signature_with_multiple_input_output'\n",
    "\n",
    "#解析特征hash参数\n",
    "parsed_args[\"userid_hash_nums\"] = 10000\n",
    "parsed_args[\"itemid_hash_nums\"] = 10000\n",
    "parsed_args[\"zipid_hash_nums\"] = 10000\n",
    "parsed_args[\"gender_hash_nums\"] = 10\n",
    "parsed_args[\"age_hash_nums\"] = 100\n",
    "parsed_args[\"occupation_hash_nums\"] = 100\n",
    "parsed_args[\"seqlen_hash_nums\"] = 100\n",
    "parsed_args[\"hash_salt\"] = 1024\n",
    "parsed_args[\"vocab_size\"] = 1000\n",
    "parsed_args[\"seq_len\"] = 5\n",
    "\n",
    "#解析模型网络结构参数\n",
    "parsed_args[\"userid_input_dim\"] = 1\n",
    "parsed_args[\"movieid_input_dim\"] = 1\n",
    "parsed_args[\"rated_movies_lastN_input_dim\"] = 5\n",
    "parsed_args[\"genres_input_dim\"] = 6\n",
    "parsed_args[\"zip_id_input_dim\"] = 1\n",
    "parsed_args[\"num_ratings\"] = 6 \n",
    "parsed_args[\"dense_size\"] = 256    \n",
    "parsed_args[\"embedding_out_dim\"] = 64\n",
    "\n",
    "#解析模型训练参数\n",
    "parsed_args[\"batch_size\"] = 64\n",
    "parsed_args[\"epochs\"] = 20 \n",
    "parsed_args[\"validation_split\"] = 0.2       \n",
    "parsed_args[\"score_loss_weight\"] = 1\n",
    "parsed_args[\"rating_loss_weight\"] = 1 \n",
    "parsed_args[\"learning_rate\"] = 1e-3"
   ]
  },
  {
   "cell_type": "code",
   "execution_count": 3,
   "metadata": {},
   "outputs": [],
   "source": [
    "#加载数据集\n",
    "data_loader = Ml1mDataset()\n",
    "data_X, data_y = data_loader.load_ml1m(parsed_args)"
   ]
  },
  {
   "cell_type": "code",
   "execution_count": 4,
   "metadata": {},
   "outputs": [
    {
     "data": {
      "text/plain": [
       "8256"
      ]
     },
     "execution_count": 4,
     "metadata": {},
     "output_type": "execute_result"
    }
   ],
   "source": [
    "#构造样本\n",
    "\n",
    "#初始化\n",
    "trainner = TrainnerCPU()\n",
    "sample_num = 20000\n",
    "\n",
    "#从原始数据集构造样本,并转换为tfrecord格式\n",
    "train_dataset = ml1m_sample_tfrecord.Ml1mTFRecordSample().tfrecord_sample(data_X[-sample_num:], data_y[-sample_num:], True, parsed_args) \n",
    "\n",
    "##直接从tfrecord文件读取样本\n",
    "#train_dataset = ml1m_sample_tfrecord.Ml1mTFRecordSample().tfrecord_sample(parsed_args) \n",
    "\n",
    "count = train_dataset.take(-1).reduce(tf.constant(0), lambda x, _: x + 1).numpy()  \n",
    "count\n"
   ]
  },
  {
   "cell_type": "code",
   "execution_count": 5,
   "metadata": {},
   "outputs": [
    {
     "name": "stdout",
     "output_type": "stream",
     "text": [
      "WARNING:tensorflow:From c:\\Users\\yuanshuai\\AppData\\Local\\anaconda3\\envs\\tensorflow2\\Lib\\site-packages\\keras\\src\\backend.py:873: The name tf.get_default_graph is deprecated. Please use tf.compat.v1.get_default_graph instead.\n",
      "\n",
      "WARNING:tensorflow:From c:\\Users\\yuanshuai\\AppData\\Local\\anaconda3\\envs\\tensorflow2\\Lib\\site-packages\\keras\\src\\utils\\tf_utils.py:492: The name tf.ragged.RaggedTensorValue is deprecated. Please use tf.compat.v1.ragged.RaggedTensorValue instead.\n",
      "\n"
     ]
    },
    {
     "data": {
      "text/plain": [
       "{'onehot_rating_label_tensor': <tf.Tensor: shape=(8256, 6), dtype=float32, numpy=\n",
       " array([[0., 1., 0., 0., 0., 0.],\n",
       "        [0., 0., 0., 1., 0., 0.],\n",
       "        [0., 0., 0., 1., 0., 0.],\n",
       "        ...,\n",
       "        [0., 1., 0., 0., 0., 0.],\n",
       "        [0., 1., 0., 0., 0., 0.],\n",
       "        [0., 0., 1., 0., 0., 0.]], dtype=float32)>,\n",
       " 'rating_score_tensor': <tf.Tensor: shape=(8256,), dtype=float32, numpy=array([4., 5., 5., ..., 4., 4., 3.], dtype=float32)>,\n",
       " 'hashed_userid_tensor': <tf.Tensor: shape=(8256,), dtype=float32, numpy=array([3995., 3995., 3995., ..., 6493., 6493., 6493.], dtype=float32)>,\n",
       " 'hashed_itemid_tensor': <tf.Tensor: shape=(8256,), dtype=float32, numpy=array([3323., 4507., 7644., ..., 2781., 5212., 1980.], dtype=float32)>,\n",
       " 'hashed_zip_tensor': <tf.Tensor: shape=(8256,), dtype=float32, numpy=array([2035., 2035., 2035., ..., 3687., 3687., 3687.], dtype=float32)>,\n",
       " 'tags_tensor': <tf.Tensor: shape=(8256, 310), dtype=float32, numpy=\n",
       " array([[0., 0., 0., ..., 0., 0., 0.],\n",
       "        [0., 0., 0., ..., 0., 0., 0.],\n",
       "        [0., 0., 0., ..., 0., 0., 0.],\n",
       "        ...,\n",
       "        [0., 1., 0., ..., 0., 0., 0.],\n",
       "        [0., 1., 0., ..., 0., 0., 0.],\n",
       "        [0., 1., 0., ..., 0., 0., 0.]], dtype=float32)>,\n",
       " 'paded_itemid_lastN_tensor': <tf.Tensor: shape=(8256, 5), dtype=float32, numpy=\n",
       " array([[ 969.,  970.,   24.,  177.,  383.],\n",
       "        [ 969.,  970.,   24.,  177.,  383.],\n",
       "        [ 969.,  970.,   24.,  177.,  383.],\n",
       "        ...,\n",
       "        [ 582.,   45., 1038., 1039., 1040.],\n",
       "        [ 582.,   45., 1038., 1039., 1040.],\n",
       "        [ 582.,   45., 1038., 1039., 1040.]], dtype=float32)>,\n",
       " 'paded_genres_tensor': <tf.Tensor: shape=(8256, 6), dtype=float32, numpy=\n",
       " array([[ 5.,  0.,  0.,  0.,  0.,  0.],\n",
       "        [ 6., 11.,  0.,  0.,  0.,  0.],\n",
       "        [14.,  7.,  0.,  0.,  0.,  0.],\n",
       "        ...,\n",
       "        [ 6.,  8.,  0.,  0.,  0.,  0.],\n",
       "        [ 1., 10., 20., 13., 11.,  0.],\n",
       "        [34., 31.,  0.,  0.,  0.,  0.]], dtype=float32)>}"
      ]
     },
     "execution_count": 5,
     "metadata": {},
     "output_type": "execute_result"
    }
   ],
   "source": [
    "## 进行特征处理, 构造输入tensor.(只是用于演示，在trainner_cpu.py内部已经调用了该方法)\n",
    "input_tensor_dict = trainner.build_input_tensor(train_dataset,parsed_args)\n",
    "input_tensor_dict"
   ]
  },
  {
   "cell_type": "code",
   "execution_count": 8,
   "metadata": {},
   "outputs": [
    {
     "data": {
      "text/plain": [
       "_SignatureMap({'serving_default': <ConcreteFunction (*, genres: TensorSpec(shape=(None, 6), dtype=tf.float32, name='genres'), movie_id: TensorSpec(shape=(None, 1), dtype=tf.float32, name='movie_id'), rated_movies_lastN: TensorSpec(shape=(None, 5), dtype=tf.float32, name='rated_movies_lastn'), tags: TensorSpec(shape=(None, 310), dtype=tf.float32, name='tags'), user_id: TensorSpec(shape=(None, 1), dtype=tf.float32, name='user_id'), zip_id: TensorSpec(shape=(None, 1), dtype=tf.float32, name='zip_id')) -> Dict[['output_1', TensorSpec(shape=(None, 6), dtype=tf.float32, name='output_1')], ['output_0', TensorSpec(shape=(None, 1), dtype=tf.float32, name='output_0')]] at 0x24FC1EDBD50>, 'predict': <ConcreteFunction (*, genres: TensorSpec(shape=(None, 6), dtype=tf.float32, name='genres'), movie_id: TensorSpec(shape=(None, 1), dtype=tf.float32, name='movie_id'), rated_movies_lastN: TensorSpec(shape=(None, 5), dtype=tf.float32, name='rated_movies_lastn'), tags: TensorSpec(shape=(None, 310), dtype=tf.float32, name='tags'), user_id: TensorSpec(shape=(None, 1), dtype=tf.float32, name='user_id'), zip_id: TensorSpec(shape=(None, 1), dtype=tf.float32, name='zip_id')) -> Dict[['output_1', TensorSpec(shape=(None, 6), dtype=tf.float32, name='output_1')], ['output_0', TensorSpec(shape=(None, 1), dtype=tf.float32, name='output_0')]] at 0x24FC1EC3150>, 'extract_features': <ConcreteFunction (*, genres: TensorSpec(shape=(None, 6), dtype=tf.float32, name='genres'), movie_id: TensorSpec(shape=(None, 1), dtype=tf.float32, name='movie_id'), rated_movies_lastN: TensorSpec(shape=(None, 5), dtype=tf.float32, name='rated_movies_lastn'), tags: TensorSpec(shape=(None, 310), dtype=tf.float32, name='tags'), user_id: TensorSpec(shape=(None, 1), dtype=tf.float32, name='user_id'), zip_id: TensorSpec(shape=(None, 1), dtype=tf.float32, name='zip_id')) -> Dict[['output_0', TensorSpec(shape=(None, 64), dtype=tf.float32, name='output_0')]] at 0x24FC1EA1D90>})"
      ]
     },
     "execution_count": 8,
     "metadata": {},
     "output_type": "execute_result"
    }
   ],
   "source": [
    "##获取推理器\n",
    "infer = Inference()\n",
    "signatures = infer.get_infer(parsed_args[\"export_path_multi\"])  #预测结果推理器和特征推理器\n",
    "signatures"
   ]
  },
  {
   "cell_type": "code",
   "execution_count": 9,
   "metadata": {},
   "outputs": [],
   "source": [
    "serve_signature_infer = signatures[\"predict\"]\n",
    "extract_features_signature_infer = signatures[\"extract_features\"]"
   ]
  },
  {
   "cell_type": "code",
   "execution_count": 10,
   "metadata": {},
   "outputs": [
    {
     "data": {
      "text/plain": [
       "<ConcreteFunction (*, genres: TensorSpec(shape=(None, 6), dtype=tf.float32, name='genres'), movie_id: TensorSpec(shape=(None, 1), dtype=tf.float32, name='movie_id'), rated_movies_lastN: TensorSpec(shape=(None, 5), dtype=tf.float32, name='rated_movies_lastn'), tags: TensorSpec(shape=(None, 310), dtype=tf.float32, name='tags'), user_id: TensorSpec(shape=(None, 1), dtype=tf.float32, name='user_id'), zip_id: TensorSpec(shape=(None, 1), dtype=tf.float32, name='zip_id')) -> Dict[['output_1', TensorSpec(shape=(None, 6), dtype=tf.float32, name='output_1')], ['output_0', TensorSpec(shape=(None, 1), dtype=tf.float32, name='output_0')]] at 0x24FC1EC3150>"
      ]
     },
     "execution_count": 10,
     "metadata": {},
     "output_type": "execute_result"
    }
   ],
   "source": [
    "#预测结果推理器（分类和回归）\n",
    "serve_signature_infer"
   ]
  },
  {
   "cell_type": "code",
   "execution_count": 11,
   "metadata": {},
   "outputs": [
    {
     "data": {
      "text/plain": [
       "<ConcreteFunction (*, genres: TensorSpec(shape=(None, 6), dtype=tf.float32, name='genres'), movie_id: TensorSpec(shape=(None, 1), dtype=tf.float32, name='movie_id'), rated_movies_lastN: TensorSpec(shape=(None, 5), dtype=tf.float32, name='rated_movies_lastn'), tags: TensorSpec(shape=(None, 310), dtype=tf.float32, name='tags'), user_id: TensorSpec(shape=(None, 1), dtype=tf.float32, name='user_id'), zip_id: TensorSpec(shape=(None, 1), dtype=tf.float32, name='zip_id')) -> Dict[['output_0', TensorSpec(shape=(None, 64), dtype=tf.float32, name='output_0')]] at 0x24FC1EA1D90>"
      ]
     },
     "execution_count": 11,
     "metadata": {},
     "output_type": "execute_result"
    }
   ],
   "source": [
    "#特征推理器\n",
    "extract_features_signature_infer"
   ]
  },
  {
   "cell_type": "code",
   "execution_count": 12,
   "metadata": {},
   "outputs": [
    {
     "data": {
      "text/plain": [
       "{'output_1': <tf.Tensor: shape=(8256, 6), dtype=float32, numpy=\n",
       " array([[-10.418308  ,  -0.5688839 ,  -1.6238482 ,  -1.2239031 ,\n",
       "          -2.5874405 ,  -2.5621088 ],\n",
       "        [-13.03817   ,  -1.2424299 ,  -0.68186384,  -0.37645024,\n",
       "          -1.5695287 ,  -3.783773  ],\n",
       "        [-17.22326   ,  -1.6669496 ,  -2.308467  ,  -2.0910754 ,\n",
       "          -3.9598432 ,  -3.3983982 ],\n",
       "        ...,\n",
       "        [-11.637632  ,  -1.1239374 ,  -0.09272848,  -3.4240985 ,\n",
       "          -0.75499153,  -1.7070343 ],\n",
       "        [-11.140631  ,  -0.36762413,  -0.79162693,  -2.0439606 ,\n",
       "          -2.225284  ,  -3.7421157 ],\n",
       "        [-13.236862  ,  -1.1861843 ,  -0.99328804,  -1.6223104 ,\n",
       "          -3.1108303 ,  -5.5107045 ]], dtype=float32)>,\n",
       " 'output_0': <tf.Tensor: shape=(8256, 1), dtype=float32, numpy=\n",
       " array([[4.031341 ],\n",
       "        [3.5402346],\n",
       "        [4.4145136],\n",
       "        ...,\n",
       "        [2.8114688],\n",
       "        [3.7264738],\n",
       "        [3.7082283]], dtype=float32)>}"
      ]
     },
     "execution_count": 12,
     "metadata": {},
     "output_type": "execute_result"
    }
   ],
   "source": [
    "## 评分结果推理 - 包括分类和回归\n",
    "predict_output = serve_signature_infer(user_id=input_tensor_dict[\"hashed_userid_tensor\"], \n",
    "                                 movie_id=input_tensor_dict[\"hashed_itemid_tensor\"],\n",
    "                                 rated_movies_lastN=input_tensor_dict[\"paded_itemid_lastN_tensor\"],\n",
    "                                 genres=input_tensor_dict[\"paded_genres_tensor\"],\n",
    "                                 zip_id=input_tensor_dict[\"hashed_zip_tensor\"],\n",
    "                                 tags=input_tensor_dict[\"tags_tensor\"])  \n",
    "predict_output"
   ]
  },
  {
   "cell_type": "code",
   "execution_count": 13,
   "metadata": {},
   "outputs": [
    {
     "data": {
      "text/plain": [
       "<tf.Tensor: shape=(8256,), dtype=int64, numpy=array([1, 3, 1, ..., 2, 1, 2], dtype=int64)>"
      ]
     },
     "execution_count": 13,
     "metadata": {},
     "output_type": "execute_result"
    }
   ],
   "source": [
    "\n",
    "#取rating分类预测结果\n",
    "lable_predictions = tf.argmax(predict_output[\"output_1\"], axis=1)  \n",
    "lable_predictions"
   ]
  },
  {
   "cell_type": "code",
   "execution_count": 14,
   "metadata": {},
   "outputs": [
    {
     "name": "stdout",
     "output_type": "stream",
     "text": [
      "5\n",
      "1\n",
      "2.0081153100775193\n"
     ]
    }
   ],
   "source": [
    "print(lable_predictions.numpy().max())\n",
    "print(lable_predictions.numpy().min())\n",
    "print(lable_predictions.numpy().mean())"
   ]
  },
  {
   "cell_type": "code",
   "execution_count": 15,
   "metadata": {},
   "outputs": [
    {
     "data": {
      "text/plain": [
       "<tf.Tensor: shape=(8256, 1), dtype=float32, numpy=\n",
       "array([[4.031341 ],\n",
       "       [3.5402346],\n",
       "       [4.4145136],\n",
       "       ...,\n",
       "       [2.8114688],\n",
       "       [3.7264738],\n",
       "       [3.7082283]], dtype=float32)>"
      ]
     },
     "execution_count": 15,
     "metadata": {},
     "output_type": "execute_result"
    }
   ],
   "source": [
    "#取rating回归预测结果\n",
    "score_predictions = predict_output[\"output_0\"] \n",
    "score_predictions"
   ]
  },
  {
   "cell_type": "code",
   "execution_count": 16,
   "metadata": {},
   "outputs": [
    {
     "data": {
      "text/plain": [
       "<tf.Tensor: shape=(8256, 64), dtype=float32, numpy=\n",
       "array([[0.        , 0.        , 0.18533131, ..., 0.63260573, 0.        ,\n",
       "        0.53615534],\n",
       "       [0.17976993, 0.        , 0.41525725, ..., 0.71256757, 0.        ,\n",
       "        0.27743727],\n",
       "       [0.        , 0.        , 0.77123106, ..., 0.64668447, 0.        ,\n",
       "        0.        ],\n",
       "       ...,\n",
       "       [0.        , 0.        , 0.28179365, ..., 0.24774575, 0.02933156,\n",
       "        0.        ],\n",
       "       [0.2591001 , 0.        , 0.41225904, ..., 1.1945828 , 0.        ,\n",
       "        0.        ],\n",
       "       [0.05773006, 0.        , 0.87651336, ..., 1.3249736 , 0.        ,\n",
       "        0.        ]], dtype=float32)>"
      ]
     },
     "execution_count": 16,
     "metadata": {},
     "output_type": "execute_result"
    }
   ],
   "source": [
    "\n",
    "## 取最后一层特征结果推理 \n",
    "feature_output = extract_features_signature_infer(user_id=input_tensor_dict[\"hashed_userid_tensor\"], \n",
    "                                 movie_id=input_tensor_dict[\"hashed_itemid_tensor\"],\n",
    "                                 rated_movies_lastN=input_tensor_dict[\"paded_itemid_lastN_tensor\"],\n",
    "                                 genres=input_tensor_dict[\"paded_genres_tensor\"],\n",
    "                                 zip_id=input_tensor_dict[\"hashed_zip_tensor\"],\n",
    "                                 tags=input_tensor_dict[\"tags_tensor\"])  \n",
    "feature_output[\"output_0\"]"
   ]
  },
  {
   "cell_type": "code",
   "execution_count": null,
   "metadata": {},
   "outputs": [],
   "source": []
  }
 ],
 "metadata": {
  "kernelspec": {
   "display_name": "Python 3",
   "language": "python",
   "name": "python3"
  },
  "language_info": {
   "codemirror_mode": {
    "name": "ipython",
    "version": 3
   },
   "file_extension": ".py",
   "mimetype": "text/x-python",
   "name": "python",
   "nbconvert_exporter": "python",
   "pygments_lexer": "ipython3",
   "version": "3.11.8"
  }
 },
 "nbformat": 4,
 "nbformat_minor": 2
}
