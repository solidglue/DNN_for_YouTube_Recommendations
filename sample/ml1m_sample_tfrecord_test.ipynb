{
 "cells": [
  {
   "cell_type": "code",
   "execution_count": 1,
   "metadata": {},
   "outputs": [
    {
     "name": "stdout",
     "output_type": "stream",
     "text": [
      "WARNING:tensorflow:From c:\\Users\\yuanshuai\\AppData\\Local\\anaconda3\\envs\\tensorflow2\\Lib\\site-packages\\keras\\src\\losses.py:2976: The name tf.losses.sparse_softmax_cross_entropy is deprecated. Please use tf.compat.v1.losses.sparse_softmax_cross_entropy instead.\n",
      "\n"
     ]
    }
   ],
   "source": [
    "import sys\n",
    "sys.path.append('d://the-recommender/DNN_for_YouTube_Recommendations')\n",
    "\n",
    "from  sample import ml1m_sample_tfrecord\n",
    "from datasets.ml1m_dataset import Ml1mDataset \n"
   ]
  },
  {
   "cell_type": "code",
   "execution_count": 2,
   "metadata": {},
   "outputs": [],
   "source": [
    "##初始化参数。在main.py中使用argparse包接收解析参数，此处为了方便在jupyter中演示，将参数放在字典中。\n",
    "parsed_args = {}\n",
    "#解析dataset参数\n",
    "parsed_args[\"data_path\"] =  'd://the-recommender/DNN_for_YouTube_Recommendations/datasets/ml-1m/'\n",
    "parsed_args[\"users_file\"] =  'users.dat'\n",
    "parsed_args[\"ratings_file\"] =  'ratings.dat' \n",
    "parsed_args[\"movies_file\"] =  'movies.dat'\n",
    "parsed_args[\"sep\"] =  '::'\n",
    "parsed_args[\"header\"] =  None\n",
    "\n",
    "#解析样本参数\n",
    "parsed_args[\"sample_output_file\"] =  'd://the-recommender/DNN_for_YouTube_Recommendations/sample/__TFRecord/train.tfrecord' \n",
    "\n",
    "#解析模型保存参数\n",
    "parsed_args[\"export_path\"] =  'd://the-recommender/DNN_for_YouTube_Recommendations/SAVEDMODELS/savedmodel/default_signature_with_multiple_input_output'\n",
    "parsed_args[\"export_path_multi\"] = 'd://the-recommender/DNN_for_YouTube_Recommendations/SAVEDMODELS/savedmodel/multi_signature_with_multiple_input_output'\n",
    "\n",
    "#解析特征hash参数\n",
    "parsed_args[\"userid_hash_nums\"] = 10000\n",
    "parsed_args[\"itemid_hash_nums\"] = 10000\n",
    "parsed_args[\"zipid_hash_nums\"] = 10000\n",
    "parsed_args[\"gender_hash_nums\"] = 10\n",
    "parsed_args[\"age_hash_nums\"] = 100\n",
    "parsed_args[\"occupation_hash_nums\"] = 100\n",
    "parsed_args[\"seqlen_hash_nums\"] = 100\n",
    "parsed_args[\"hash_salt\"] = 1024\n",
    "parsed_args[\"vocab_size\"] = 1000\n",
    "parsed_args[\"seq_len\"] = 5\n",
    "\n",
    "#解析模型网络结构参数\n",
    "parsed_args[\"userid_input_dim\"] = 1\n",
    "parsed_args[\"movieid_input_dim\"] = 1\n",
    "parsed_args[\"rated_movies_lastN_input_dim\"] = 5\n",
    "parsed_args[\"genres_input_dim\"] = 6\n",
    "parsed_args[\"zip_id_input_dim\"] = 1\n",
    "parsed_args[\"num_ratings\"] = 6 \n",
    "parsed_args[\"dense_size\"] = 256    \n",
    "parsed_args[\"embedding_out_dim\"] = 64\n",
    "\n",
    "#解析模型训练参数\n",
    "parsed_args[\"batch_size\"] = 64\n",
    "parsed_args[\"epochs\"] = 20 \n",
    "parsed_args[\"validation_split\"] = 0.2       \n",
    "parsed_args[\"score_loss_weight\"] = 1\n",
    "parsed_args[\"rating_loss_weight\"] = 1 \n",
    "parsed_args[\"learning_rate\"] = 1e-3"
   ]
  },
  {
   "cell_type": "code",
   "execution_count": 4,
   "metadata": {},
   "outputs": [],
   "source": [
    "#加载数据集\n",
    "data_loader = Ml1mDataset()\n",
    "data_X, data_y = data_loader.load_ml1m(parsed_args)"
   ]
  },
  {
   "cell_type": "code",
   "execution_count": 5,
   "metadata": {},
   "outputs": [
    {
     "data": {
      "text/plain": [
       "(1000209, 9)"
      ]
     },
     "execution_count": 5,
     "metadata": {},
     "output_type": "execute_result"
    }
   ],
   "source": [
    "data_X.shape"
   ]
  },
  {
   "cell_type": "code",
   "execution_count": 6,
   "metadata": {},
   "outputs": [
    {
     "data": {
      "text/plain": [
       "(1000209, 1)"
      ]
     },
     "execution_count": 6,
     "metadata": {},
     "output_type": "execute_result"
    }
   ],
   "source": [
    "data_y.shape"
   ]
  },
  {
   "cell_type": "code",
   "execution_count": 7,
   "metadata": {},
   "outputs": [],
   "source": [
    "#从原始数据集构造样本,并转换为tfrecord格式\n",
    "sample_num = 10000\n",
    "train_dataset = ml1m_sample_tfrecord.Ml1mTFRecordSample().tfrecord_sample(data_X[:sample_num], data_y[:sample_num], True, parsed_args) \n"
   ]
  },
  {
   "cell_type": "code",
   "execution_count": 8,
   "metadata": {},
   "outputs": [
    {
     "data": {
      "text/plain": [
       "{'user_id': <tf.Tensor: shape=(), dtype=int64, numpy=1>,\n",
       " 'item_id': <tf.Tensor: shape=(), dtype=int64, numpy=48>,\n",
       " 'timestamp': <tf.Tensor: shape=(), dtype=int64, numpy=978824351>,\n",
       " 'title': <tf.Tensor: shape=(), dtype=string, numpy=b'Pocahontas (1995)'>,\n",
       " 'genres': <tf.Tensor: shape=(), dtype=string, numpy=b\"Animation|Children's|Musical|Romance\">,\n",
       " 'gender': <tf.Tensor: shape=(), dtype=string, numpy=b'F'>,\n",
       " 'age': <tf.Tensor: shape=(), dtype=int64, numpy=1>,\n",
       " 'occupation': <tf.Tensor: shape=(), dtype=int64, numpy=10>,\n",
       " 'zip': <tf.Tensor: shape=(), dtype=string, numpy=b'48067'>,\n",
       " 'itemid_lastN': <tf.Tensor: shape=(), dtype=string, numpy=b'48|1907|783|1|527'>,\n",
       " 'itemid_lastN_len': <tf.Tensor: shape=(), dtype=int64, numpy=5>}"
      ]
     },
     "execution_count": 8,
     "metadata": {},
     "output_type": "execute_result"
    }
   ],
   "source": [
    "#查看样本。注意，新构造了不定长序列特征itemid_lastN\n",
    "sample_x, sample_y = next(iter(train_dataset))  \n",
    "sample_x"
   ]
  },
  {
   "cell_type": "code",
   "execution_count": 9,
   "metadata": {},
   "outputs": [
    {
     "data": {
      "text/plain": [
       "{'rating': <tf.Tensor: shape=(), dtype=int64, numpy=5>}"
      ]
     },
     "execution_count": 9,
     "metadata": {},
     "output_type": "execute_result"
    }
   ],
   "source": [
    "sample_y"
   ]
  },
  {
   "cell_type": "code",
   "execution_count": 10,
   "metadata": {},
   "outputs": [
    {
     "name": "stdout",
     "output_type": "stream",
     "text": [
      "Feature: {'user_id': <tf.Tensor: shape=(), dtype=int64, numpy=1>, 'item_id': <tf.Tensor: shape=(), dtype=int64, numpy=48>, 'timestamp': <tf.Tensor: shape=(), dtype=int64, numpy=978824351>, 'title': <tf.Tensor: shape=(), dtype=string, numpy=b'Pocahontas (1995)'>, 'genres': <tf.Tensor: shape=(), dtype=string, numpy=b\"Animation|Children's|Musical|Romance\">, 'gender': <tf.Tensor: shape=(), dtype=string, numpy=b'F'>, 'age': <tf.Tensor: shape=(), dtype=int64, numpy=1>, 'occupation': <tf.Tensor: shape=(), dtype=int64, numpy=10>, 'zip': <tf.Tensor: shape=(), dtype=string, numpy=b'48067'>, 'itemid_lastN': <tf.Tensor: shape=(), dtype=string, numpy=b'48|1907|783|1|527'>, 'itemid_lastN_len': <tf.Tensor: shape=(), dtype=int64, numpy=5>}\n",
      "Label: {'rating': <tf.Tensor: shape=(), dtype=int64, numpy=5>}\n"
     ]
    }
   ],
   "source": [
    "# 使用for循环遍历Dataset  \n",
    "for feature_element, label_element in train_dataset:  \n",
    "    print(\"Feature:\", feature_element)  \n",
    "    print(\"Label:\", label_element)\n",
    "    #print(type(label_element[\"rating\"]),label_element[\"rating\"])\n",
    "    #print(label_element[\"rating\"].numpy())\n",
    "    break\n"
   ]
  },
  {
   "cell_type": "code",
   "execution_count": null,
   "metadata": {},
   "outputs": [],
   "source": []
  }
 ],
 "metadata": {
  "kernelspec": {
   "display_name": "Python 3",
   "language": "python",
   "name": "python3"
  },
  "language_info": {
   "codemirror_mode": {
    "name": "ipython",
    "version": 3
   },
   "file_extension": ".py",
   "mimetype": "text/x-python",
   "name": "python",
   "nbconvert_exporter": "python",
   "pygments_lexer": "ipython3",
   "version": "3.11.8"
  }
 },
 "nbformat": 4,
 "nbformat_minor": 2
}
