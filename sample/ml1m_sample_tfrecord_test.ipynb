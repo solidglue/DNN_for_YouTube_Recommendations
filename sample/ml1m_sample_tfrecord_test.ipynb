{
 "cells": [
  {
   "cell_type": "code",
   "execution_count": 1,
   "metadata": {},
   "outputs": [
    {
     "name": "stdout",
     "output_type": "stream",
     "text": [
      "WARNING:tensorflow:From c:\\Users\\yuanshuai\\AppData\\Local\\anaconda3\\envs\\tensorflow2\\Lib\\site-packages\\keras\\src\\losses.py:2976: The name tf.losses.sparse_softmax_cross_entropy is deprecated. Please use tf.compat.v1.losses.sparse_softmax_cross_entropy instead.\n",
      "\n"
     ]
    }
   ],
   "source": [
    "import sys\n",
    "sys.path.append('d://the-recommender/DNN_for_YouTube_Recommendations')\n",
    "\n",
    "from sample import ml1m_sample\n",
    "from  sample import ml1m_sample_tfrecord\n",
    "\n",
    "sample_x, sample_y = ml1m_sample.Ml1mSample().ranking_sample()\n"
   ]
  },
  {
   "cell_type": "code",
   "execution_count": 2,
   "metadata": {},
   "outputs": [
    {
     "data": {
      "text/html": [
       "<div>\n",
       "<style scoped>\n",
       "    .dataframe tbody tr th:only-of-type {\n",
       "        vertical-align: middle;\n",
       "    }\n",
       "\n",
       "    .dataframe tbody tr th {\n",
       "        vertical-align: top;\n",
       "    }\n",
       "\n",
       "    .dataframe thead th {\n",
       "        text-align: right;\n",
       "    }\n",
       "</style>\n",
       "<table border=\"1\" class=\"dataframe\">\n",
       "  <thead>\n",
       "    <tr style=\"text-align: right;\">\n",
       "      <th></th>\n",
       "      <th>user_id</th>\n",
       "      <th>item_id</th>\n",
       "      <th>timestamp</th>\n",
       "      <th>title</th>\n",
       "      <th>genres</th>\n",
       "      <th>gender</th>\n",
       "      <th>age</th>\n",
       "      <th>occupation</th>\n",
       "      <th>zip</th>\n",
       "      <th>itemid_seq</th>\n",
       "      <th>itemid_seq_len</th>\n",
       "    </tr>\n",
       "  </thead>\n",
       "  <tbody>\n",
       "    <tr>\n",
       "      <th>0</th>\n",
       "      <td>1</td>\n",
       "      <td>48</td>\n",
       "      <td>978824351</td>\n",
       "      <td>Pocahontas (1995)</td>\n",
       "      <td>Animation|Children's|Musical|Romance</td>\n",
       "      <td>F</td>\n",
       "      <td>1</td>\n",
       "      <td>10</td>\n",
       "      <td>48067</td>\n",
       "      <td>48|1907|783|1|527</td>\n",
       "      <td>5</td>\n",
       "    </tr>\n",
       "    <tr>\n",
       "      <th>1</th>\n",
       "      <td>1</td>\n",
       "      <td>1907</td>\n",
       "      <td>978824330</td>\n",
       "      <td>Mulan (1998)</td>\n",
       "      <td>Animation|Children's</td>\n",
       "      <td>F</td>\n",
       "      <td>1</td>\n",
       "      <td>10</td>\n",
       "      <td>48067</td>\n",
       "      <td>48|1907|783|1|527</td>\n",
       "      <td>5</td>\n",
       "    </tr>\n",
       "    <tr>\n",
       "      <th>2</th>\n",
       "      <td>1</td>\n",
       "      <td>783</td>\n",
       "      <td>978824291</td>\n",
       "      <td>Hunchback of Notre Dame, The (1996)</td>\n",
       "      <td>Animation|Children's|Musical</td>\n",
       "      <td>F</td>\n",
       "      <td>1</td>\n",
       "      <td>10</td>\n",
       "      <td>48067</td>\n",
       "      <td>48|1907|783|1|527</td>\n",
       "      <td>5</td>\n",
       "    </tr>\n",
       "    <tr>\n",
       "      <th>3</th>\n",
       "      <td>1</td>\n",
       "      <td>1</td>\n",
       "      <td>978824268</td>\n",
       "      <td>Toy Story (1995)</td>\n",
       "      <td>Animation|Children's|Comedy</td>\n",
       "      <td>F</td>\n",
       "      <td>1</td>\n",
       "      <td>10</td>\n",
       "      <td>48067</td>\n",
       "      <td>48|1907|783|1|527</td>\n",
       "      <td>5</td>\n",
       "    </tr>\n",
       "    <tr>\n",
       "      <th>4</th>\n",
       "      <td>1</td>\n",
       "      <td>527</td>\n",
       "      <td>978824195</td>\n",
       "      <td>Schindler's List (1993)</td>\n",
       "      <td>Drama|War</td>\n",
       "      <td>F</td>\n",
       "      <td>1</td>\n",
       "      <td>10</td>\n",
       "      <td>48067</td>\n",
       "      <td>48|1907|783|1|527</td>\n",
       "      <td>5</td>\n",
       "    </tr>\n",
       "  </tbody>\n",
       "</table>\n",
       "</div>"
      ],
      "text/plain": [
       "   user_id  item_id  timestamp                                title  \\\n",
       "0        1       48  978824351                    Pocahontas (1995)   \n",
       "1        1     1907  978824330                         Mulan (1998)   \n",
       "2        1      783  978824291  Hunchback of Notre Dame, The (1996)   \n",
       "3        1        1  978824268                     Toy Story (1995)   \n",
       "4        1      527  978824195              Schindler's List (1993)   \n",
       "\n",
       "                                 genres gender  age  occupation    zip  \\\n",
       "0  Animation|Children's|Musical|Romance      F    1          10  48067   \n",
       "1                  Animation|Children's      F    1          10  48067   \n",
       "2          Animation|Children's|Musical      F    1          10  48067   \n",
       "3           Animation|Children's|Comedy      F    1          10  48067   \n",
       "4                             Drama|War      F    1          10  48067   \n",
       "\n",
       "          itemid_seq  itemid_seq_len  \n",
       "0  48|1907|783|1|527               5  \n",
       "1  48|1907|783|1|527               5  \n",
       "2  48|1907|783|1|527               5  \n",
       "3  48|1907|783|1|527               5  \n",
       "4  48|1907|783|1|527               5  "
      ]
     },
     "execution_count": 2,
     "metadata": {},
     "output_type": "execute_result"
    }
   ],
   "source": [
    "sample_x.head()"
   ]
  },
  {
   "cell_type": "code",
   "execution_count": 3,
   "metadata": {},
   "outputs": [
    {
     "data": {
      "text/plain": [
       "(471163, 11)"
      ]
     },
     "execution_count": 3,
     "metadata": {},
     "output_type": "execute_result"
    }
   ],
   "source": [
    "sample_x.shape"
   ]
  },
  {
   "cell_type": "code",
   "execution_count": 4,
   "metadata": {},
   "outputs": [
    {
     "data": {
      "text/plain": [
       "pandas.core.frame.DataFrame"
      ]
     },
     "execution_count": 4,
     "metadata": {},
     "output_type": "execute_result"
    }
   ],
   "source": [
    "type(sample_x)"
   ]
  },
  {
   "cell_type": "code",
   "execution_count": 5,
   "metadata": {},
   "outputs": [
    {
     "data": {
      "text/html": [
       "<div>\n",
       "<style scoped>\n",
       "    .dataframe tbody tr th:only-of-type {\n",
       "        vertical-align: middle;\n",
       "    }\n",
       "\n",
       "    .dataframe tbody tr th {\n",
       "        vertical-align: top;\n",
       "    }\n",
       "\n",
       "    .dataframe thead th {\n",
       "        text-align: right;\n",
       "    }\n",
       "</style>\n",
       "<table border=\"1\" class=\"dataframe\">\n",
       "  <thead>\n",
       "    <tr style=\"text-align: right;\">\n",
       "      <th></th>\n",
       "      <th>rating</th>\n",
       "    </tr>\n",
       "  </thead>\n",
       "  <tbody>\n",
       "    <tr>\n",
       "      <th>0</th>\n",
       "      <td>5</td>\n",
       "    </tr>\n",
       "    <tr>\n",
       "      <th>1</th>\n",
       "      <td>4</td>\n",
       "    </tr>\n",
       "    <tr>\n",
       "      <th>2</th>\n",
       "      <td>4</td>\n",
       "    </tr>\n",
       "    <tr>\n",
       "      <th>3</th>\n",
       "      <td>5</td>\n",
       "    </tr>\n",
       "    <tr>\n",
       "      <th>4</th>\n",
       "      <td>5</td>\n",
       "    </tr>\n",
       "  </tbody>\n",
       "</table>\n",
       "</div>"
      ],
      "text/plain": [
       "   rating\n",
       "0       5\n",
       "1       4\n",
       "2       4\n",
       "3       5\n",
       "4       5"
      ]
     },
     "execution_count": 5,
     "metadata": {},
     "output_type": "execute_result"
    }
   ],
   "source": [
    "sample_y.head()"
   ]
  },
  {
   "cell_type": "code",
   "execution_count": 6,
   "metadata": {},
   "outputs": [
    {
     "data": {
      "text/plain": [
       "(471163, 11)"
      ]
     },
     "execution_count": 6,
     "metadata": {},
     "output_type": "execute_result"
    }
   ],
   "source": [
    "sample_x.shape"
   ]
  },
  {
   "cell_type": "code",
   "execution_count": 7,
   "metadata": {},
   "outputs": [
    {
     "data": {
      "text/plain": [
       "pandas.core.frame.DataFrame"
      ]
     },
     "execution_count": 7,
     "metadata": {},
     "output_type": "execute_result"
    }
   ],
   "source": [
    "type(sample_y)"
   ]
  },
  {
   "cell_type": "code",
   "execution_count": 8,
   "metadata": {},
   "outputs": [
    {
     "data": {
      "text/plain": [
       "<_ParallelMapDataset element_spec=({'user_id': TensorSpec(shape=(), dtype=tf.int64, name=None), 'item_id': TensorSpec(shape=(), dtype=tf.int64, name=None), 'timestamp': TensorSpec(shape=(), dtype=tf.int64, name=None), 'title': TensorSpec(shape=(), dtype=tf.string, name=None), 'genres': TensorSpec(shape=(), dtype=tf.string, name=None), 'gender': TensorSpec(shape=(), dtype=tf.string, name=None), 'age': TensorSpec(shape=(), dtype=tf.int64, name=None), 'occupation': TensorSpec(shape=(), dtype=tf.int64, name=None), 'zip': TensorSpec(shape=(), dtype=tf.string, name=None), 'itemid_seq': TensorSpec(shape=(), dtype=tf.string, name=None), 'itemid_seq_len': TensorSpec(shape=(), dtype=tf.int64, name=None)}, {'rating': TensorSpec(shape=(), dtype=tf.int64, name=None)})>"
      ]
     },
     "execution_count": 8,
     "metadata": {},
     "output_type": "execute_result"
    }
   ],
   "source": [
    "#构造tfrecord样本\n",
    "train_dataset = ml1m_sample_tfrecord.Ml1mTFRecordSample().tfrecord_sample(sample_x, sample_y, True)\n",
    "train_dataset"
   ]
  },
  {
   "cell_type": "code",
   "execution_count": 9,
   "metadata": {},
   "outputs": [
    {
     "data": {
      "text/plain": [
       "{'user_id': <tf.Tensor: shape=(), dtype=int64, numpy=1>,\n",
       " 'item_id': <tf.Tensor: shape=(), dtype=int64, numpy=48>,\n",
       " 'timestamp': <tf.Tensor: shape=(), dtype=int64, numpy=978824351>,\n",
       " 'title': <tf.Tensor: shape=(), dtype=string, numpy=b'Pocahontas (1995)'>,\n",
       " 'genres': <tf.Tensor: shape=(), dtype=string, numpy=b\"Animation|Children's|Musical|Romance\">,\n",
       " 'gender': <tf.Tensor: shape=(), dtype=string, numpy=b'F'>,\n",
       " 'age': <tf.Tensor: shape=(), dtype=int64, numpy=1>,\n",
       " 'occupation': <tf.Tensor: shape=(), dtype=int64, numpy=10>,\n",
       " 'zip': <tf.Tensor: shape=(), dtype=string, numpy=b'48067'>,\n",
       " 'itemid_seq': <tf.Tensor: shape=(), dtype=string, numpy=b'48|1907|783|1|527'>,\n",
       " 'itemid_seq_len': <tf.Tensor: shape=(), dtype=int64, numpy=5>}"
      ]
     },
     "execution_count": 9,
     "metadata": {},
     "output_type": "execute_result"
    }
   ],
   "source": [
    "sample_image, sample_label = next(iter(train_dataset))  #model.fit(train_dataset, epochs=10)\n",
    "sample_image"
   ]
  },
  {
   "cell_type": "code",
   "execution_count": 10,
   "metadata": {},
   "outputs": [
    {
     "data": {
      "text/plain": [
       "{'rating': <tf.Tensor: shape=(), dtype=int64, numpy=5>}"
      ]
     },
     "execution_count": 10,
     "metadata": {},
     "output_type": "execute_result"
    }
   ],
   "source": [
    "sample_label"
   ]
  },
  {
   "cell_type": "code",
   "execution_count": 15,
   "metadata": {},
   "outputs": [
    {
     "name": "stdout",
     "output_type": "stream",
     "text": [
      "Input: {'user_id': <tf.Tensor: shape=(), dtype=int64, numpy=1>, 'item_id': <tf.Tensor: shape=(), dtype=int64, numpy=48>, 'timestamp': <tf.Tensor: shape=(), dtype=int64, numpy=978824351>, 'title': <tf.Tensor: shape=(), dtype=string, numpy=b'Pocahontas (1995)'>, 'genres': <tf.Tensor: shape=(), dtype=string, numpy=b\"Animation|Children's|Musical|Romance\">, 'gender': <tf.Tensor: shape=(), dtype=string, numpy=b'F'>, 'age': <tf.Tensor: shape=(), dtype=int64, numpy=1>, 'occupation': <tf.Tensor: shape=(), dtype=int64, numpy=10>, 'zip': <tf.Tensor: shape=(), dtype=string, numpy=b'48067'>, 'itemid_seq': <tf.Tensor: shape=(), dtype=string, numpy=b'48|1907|783|1|527'>, 'itemid_seq_len': <tf.Tensor: shape=(), dtype=int64, numpy=5>}\n",
      "Label: {'rating': <tf.Tensor: shape=(), dtype=int64, numpy=5>}\n",
      "<class 'tensorflow.python.framework.ops.EagerTensor'> tf.Tensor(5, shape=(), dtype=int64)\n",
      "5\n"
     ]
    }
   ],
   "source": [
    "# 使用for循环遍历Dataset  \n",
    "for input_element, label_element in train_dataset:  \n",
    "    print(\"Input:\", input_element)  \n",
    "    print(\"Label:\", label_element)\n",
    "    print(type(label_element[\"rating\"]),label_element[\"rating\"])\n",
    "    print(label_element[\"rating\"].numpy())\n",
    "    break\n"
   ]
  },
  {
   "cell_type": "code",
   "execution_count": null,
   "metadata": {},
   "outputs": [],
   "source": []
  }
 ],
 "metadata": {
  "kernelspec": {
   "display_name": "Python 3",
   "language": "python",
   "name": "python3"
  },
  "language_info": {
   "codemirror_mode": {
    "name": "ipython",
    "version": 3
   },
   "file_extension": ".py",
   "mimetype": "text/x-python",
   "name": "python",
   "nbconvert_exporter": "python",
   "pygments_lexer": "ipython3",
   "version": "3.11.8"
  }
 },
 "nbformat": 4,
 "nbformat_minor": 2
}
