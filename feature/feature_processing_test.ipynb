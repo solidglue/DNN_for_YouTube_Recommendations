{
 "cells": [
  {
   "cell_type": "code",
   "execution_count": 1,
   "metadata": {},
   "outputs": [
    {
     "name": "stdout",
     "output_type": "stream",
     "text": [
      "WARNING:tensorflow:From c:\\Users\\yuanshuai\\AppData\\Local\\anaconda3\\envs\\tensorflow2\\Lib\\site-packages\\keras\\src\\losses.py:2976: The name tf.losses.sparse_softmax_cross_entropy is deprecated. Please use tf.compat.v1.losses.sparse_softmax_cross_entropy instead.\n",
      "\n"
     ]
    }
   ],
   "source": [
    "import sys\n",
    "sys.path.append('d://the-recommender/DNN_for_YouTube_Recommendations')\n",
    "\n",
    "from datasets.ml1m_dataset import Ml1mDataset \n",
    "from feature_processing import Features"
   ]
  },
  {
   "cell_type": "code",
   "execution_count": 2,
   "metadata": {},
   "outputs": [],
   "source": [
    "##初始化参数。在main.py中使用argparse包接收解析参数，此处为了方便在jupyter中演示，将参数放在字典中。\n",
    "parsed_args = {}\n",
    "#解析dataset参数\n",
    "parsed_args[\"data_path\"] =  'd://the-recommender/DNN_for_YouTube_Recommendations/datasets/ml-1m/'\n",
    "parsed_args[\"users_file\"] =  'users.dat'\n",
    "parsed_args[\"ratings_file\"] =  'ratings.dat' \n",
    "parsed_args[\"movies_file\"] =  'movies.dat'\n",
    "parsed_args[\"sep\"] =  '::'\n",
    "parsed_args[\"header\"] =  None\n",
    "\n",
    "#解析样本参数\n",
    "parsed_args[\"sample_output_file\"] =  'd://the-recommender/DNN_for_YouTube_Recommendations/sample/__TFRecord/train.tfrecord' \n",
    "\n",
    "#解析模型保存参数\n",
    "parsed_args[\"export_path\"] =  'd://the-recommender/DNN_for_YouTube_Recommendations/SAVEDMODELS/savedmodel/default_signature_with_multiple_input_output'\n",
    "parsed_args[\"export_path_multi\"] = 'd://the-recommender/DNN_for_YouTube_Recommendations/SAVEDMODELS/savedmodel/multi_signature_with_multiple_input_output'\n",
    "\n",
    "#解析特征hash参数\n",
    "parsed_args[\"userid_hash_nums\"] = 10000\n",
    "parsed_args[\"itemid_hash_nums\"] = 10000\n",
    "parsed_args[\"zipid_hash_nums\"] = 10000\n",
    "parsed_args[\"gender_hash_nums\"] = 10\n",
    "parsed_args[\"age_hash_nums\"] = 100\n",
    "parsed_args[\"occupation_hash_nums\"] = 100\n",
    "parsed_args[\"seqlen_hash_nums\"] = 100\n",
    "parsed_args[\"hash_salt\"] = 1024\n",
    "parsed_args[\"vocab_size\"] = 1000\n",
    "parsed_args[\"seq_len\"] = 5\n",
    "\n",
    "#解析模型网络结构参数\n",
    "parsed_args[\"userid_input_dim\"] = 1\n",
    "parsed_args[\"movieid_input_dim\"] = 1\n",
    "parsed_args[\"rated_movies_lastN_input_dim\"] = 5\n",
    "parsed_args[\"genres_input_dim\"] = 6\n",
    "parsed_args[\"zip_id_input_dim\"] = 1\n",
    "parsed_args[\"num_ratings\"] = 6 \n",
    "parsed_args[\"dense_size\"] = 256    \n",
    "parsed_args[\"embedding_out_dim\"] = 64\n",
    "\n",
    "#解析模型训练参数\n",
    "parsed_args[\"batch_size\"] = 64\n",
    "parsed_args[\"epochs\"] = 20 \n",
    "parsed_args[\"validation_split\"] = 0.2       \n",
    "parsed_args[\"score_loss_weight\"] = 1\n",
    "parsed_args[\"rating_loss_weight\"] = 1 \n",
    "parsed_args[\"learning_rate\"] = 1e-3"
   ]
  },
  {
   "cell_type": "code",
   "execution_count": 3,
   "metadata": {},
   "outputs": [
    {
     "name": "stdout",
     "output_type": "stream",
     "text": [
      "(1000209, 9)\n",
      "(1000209, 1)\n"
     ]
    }
   ],
   "source": [
    "#加载数据集\n",
    "data_loader = Ml1mDataset()\n",
    "data_X, data_y = data_loader.load_ml1m(parsed_args)\n",
    "print(data_X.shape)\n",
    "print(data_y.shape)"
   ]
  },
  {
   "cell_type": "code",
   "execution_count": 4,
   "metadata": {},
   "outputs": [
    {
     "data": {
      "text/html": [
       "<div>\n",
       "<style scoped>\n",
       "    .dataframe tbody tr th:only-of-type {\n",
       "        vertical-align: middle;\n",
       "    }\n",
       "\n",
       "    .dataframe tbody tr th {\n",
       "        vertical-align: top;\n",
       "    }\n",
       "\n",
       "    .dataframe thead th {\n",
       "        text-align: right;\n",
       "    }\n",
       "</style>\n",
       "<table border=\"1\" class=\"dataframe\">\n",
       "  <thead>\n",
       "    <tr style=\"text-align: right;\">\n",
       "      <th></th>\n",
       "      <th>user_id</th>\n",
       "      <th>itemid_seq</th>\n",
       "      <th>itemid_seq_len</th>\n",
       "    </tr>\n",
       "  </thead>\n",
       "  <tbody>\n",
       "    <tr>\n",
       "      <th>0</th>\n",
       "      <td>1</td>\n",
       "      <td>48|1566|1907|2355|2294|783|595|2687|745|588|1|...</td>\n",
       "      <td>52</td>\n",
       "    </tr>\n",
       "    <tr>\n",
       "      <th>1</th>\n",
       "      <td>2</td>\n",
       "      <td>1687|434|1544|1917|95|2126|292|736|2002|3257|2...</td>\n",
       "      <td>100</td>\n",
       "    </tr>\n",
       "    <tr>\n",
       "      <th>2</th>\n",
       "      <td>3</td>\n",
       "      <td>2081|104|3868|3552|2355|1641|1265|1259|1079|12...</td>\n",
       "      <td>50</td>\n",
       "    </tr>\n",
       "    <tr>\n",
       "      <th>3</th>\n",
       "      <td>4</td>\n",
       "      <td>1954|2951|1036|3418|1214|3702|1240|2692|2028|2...</td>\n",
       "      <td>20</td>\n",
       "    </tr>\n",
       "    <tr>\n",
       "      <th>4</th>\n",
       "      <td>5</td>\n",
       "      <td>288|3105|1485|1884|2029|229|551|353|1527|1909|...</td>\n",
       "      <td>100</td>\n",
       "    </tr>\n",
       "  </tbody>\n",
       "</table>\n",
       "</div>"
      ],
      "text/plain": [
       "   user_id                                         itemid_seq  itemid_seq_len\n",
       "0        1  48|1566|1907|2355|2294|783|595|2687|745|588|1|...              52\n",
       "1        2  1687|434|1544|1917|95|2126|292|736|2002|3257|2...             100\n",
       "2        3  2081|104|3868|3552|2355|1641|1265|1259|1079|12...              50\n",
       "3        4  1954|2951|1036|3418|1214|3702|1240|2692|2028|2...              20\n",
       "4        5  288|3105|1485|1884|2029|229|551|353|1527|1909|...             100"
      ]
     },
     "execution_count": 4,
     "metadata": {},
     "output_type": "execute_result"
    }
   ],
   "source": [
    "#构造id序列特征\n",
    "seq_data_x = Features().rating_sequences(data_X, 100)  #此处未进行数据清洗，只测试序列特征的构造，数据放在样本构造里。\n",
    "seq_data_x.head()"
   ]
  },
  {
   "cell_type": "code",
   "execution_count": 5,
   "metadata": {},
   "outputs": [
    {
     "data": {
      "text/plain": [
       "19"
      ]
     },
     "execution_count": 5,
     "metadata": {},
     "output_type": "execute_result"
    }
   ],
   "source": [
    "seq_data_x[\"itemid_seq_len\"].min()  #最多取100个评分电影序列，最小实际只有19个"
   ]
  },
  {
   "cell_type": "code",
   "execution_count": 6,
   "metadata": {},
   "outputs": [
    {
     "data": {
      "text/plain": [
       "(6040, 3)"
      ]
     },
     "execution_count": 6,
     "metadata": {},
     "output_type": "execute_result"
    }
   ],
   "source": [
    "seq_data_x.shape"
   ]
  },
  {
   "cell_type": "code",
   "execution_count": 7,
   "metadata": {},
   "outputs": [
    {
     "data": {
      "text/html": [
       "<div>\n",
       "<style scoped>\n",
       "    .dataframe tbody tr th:only-of-type {\n",
       "        vertical-align: middle;\n",
       "    }\n",
       "\n",
       "    .dataframe tbody tr th {\n",
       "        vertical-align: top;\n",
       "    }\n",
       "\n",
       "    .dataframe thead th {\n",
       "        text-align: right;\n",
       "    }\n",
       "</style>\n",
       "<table border=\"1\" class=\"dataframe\">\n",
       "  <thead>\n",
       "    <tr style=\"text-align: right;\">\n",
       "      <th></th>\n",
       "      <th>user_id</th>\n",
       "      <th>itemid_seq_len</th>\n",
       "    </tr>\n",
       "  </thead>\n",
       "  <tbody>\n",
       "    <tr>\n",
       "      <th>count</th>\n",
       "      <td>6040.000000</td>\n",
       "      <td>6040.000000</td>\n",
       "    </tr>\n",
       "    <tr>\n",
       "      <th>mean</th>\n",
       "      <td>3020.500000</td>\n",
       "      <td>73.555629</td>\n",
       "    </tr>\n",
       "    <tr>\n",
       "      <th>std</th>\n",
       "      <td>1743.742145</td>\n",
       "      <td>30.324457</td>\n",
       "    </tr>\n",
       "    <tr>\n",
       "      <th>min</th>\n",
       "      <td>1.000000</td>\n",
       "      <td>19.000000</td>\n",
       "    </tr>\n",
       "    <tr>\n",
       "      <th>25%</th>\n",
       "      <td>1510.750000</td>\n",
       "      <td>43.000000</td>\n",
       "    </tr>\n",
       "    <tr>\n",
       "      <th>50%</th>\n",
       "      <td>3020.500000</td>\n",
       "      <td>95.000000</td>\n",
       "    </tr>\n",
       "    <tr>\n",
       "      <th>75%</th>\n",
       "      <td>4530.250000</td>\n",
       "      <td>100.000000</td>\n",
       "    </tr>\n",
       "    <tr>\n",
       "      <th>max</th>\n",
       "      <td>6040.000000</td>\n",
       "      <td>100.000000</td>\n",
       "    </tr>\n",
       "  </tbody>\n",
       "</table>\n",
       "</div>"
      ],
      "text/plain": [
       "           user_id  itemid_seq_len\n",
       "count  6040.000000     6040.000000\n",
       "mean   3020.500000       73.555629\n",
       "std    1743.742145       30.324457\n",
       "min       1.000000       19.000000\n",
       "25%    1510.750000       43.000000\n",
       "50%    3020.500000       95.000000\n",
       "75%    4530.250000      100.000000\n",
       "max    6040.000000      100.000000"
      ]
     },
     "execution_count": 7,
     "metadata": {},
     "output_type": "execute_result"
    }
   ],
   "source": [
    "seq_data_x.describe()"
   ]
  },
  {
   "cell_type": "code",
   "execution_count": 8,
   "metadata": {},
   "outputs": [
    {
     "name": "stdout",
     "output_type": "stream",
     "text": [
      "<class 'pandas.core.frame.DataFrame'>\n",
      "RangeIndex: 6040 entries, 0 to 6039\n",
      "Data columns (total 3 columns):\n",
      " #   Column          Non-Null Count  Dtype \n",
      "---  ------          --------------  ----- \n",
      " 0   user_id         6040 non-null   int64 \n",
      " 1   itemid_seq      6040 non-null   object\n",
      " 2   itemid_seq_len  6040 non-null   int64 \n",
      "dtypes: int64(2), object(1)\n",
      "memory usage: 141.7+ KB\n"
     ]
    }
   ],
   "source": [
    "seq_data_x.info()\n"
   ]
  },
  {
   "cell_type": "code",
   "execution_count": 9,
   "metadata": {},
   "outputs": [
    {
     "name": "stdout",
     "output_type": "stream",
     "text": [
      "<class 'pandas.core.frame.DataFrame'>\n",
      "RangeIndex: 6040 entries, 0 to 6039\n",
      "Data columns (total 3 columns):\n",
      " #   Column          Non-Null Count  Dtype \n",
      "---  ------          --------------  ----- \n",
      " 0   user_id         6040 non-null   int64 \n",
      " 1   itemid_seq      6040 non-null   object\n",
      " 2   itemid_seq_len  6040 non-null   int64 \n",
      "dtypes: int64(2), object(1)\n",
      "memory usage: 141.7+ KB\n"
     ]
    }
   ],
   "source": [
    "seq_data_x.info()"
   ]
  }
 ],
 "metadata": {
  "kernelspec": {
   "display_name": "Python 3",
   "language": "python",
   "name": "python3"
  },
  "language_info": {
   "codemirror_mode": {
    "name": "ipython",
    "version": 3
   },
   "file_extension": ".py",
   "mimetype": "text/x-python",
   "name": "python",
   "nbconvert_exporter": "python",
   "pygments_lexer": "ipython3",
   "version": "3.11.8"
  }
 },
 "nbformat": 4,
 "nbformat_minor": 2
}
